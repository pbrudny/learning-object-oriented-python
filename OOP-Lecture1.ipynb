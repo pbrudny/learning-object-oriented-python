{
  "metadata": {
    "kernelspec": {
      "name": "python",
      "display_name": "Python (Pyodide)",
      "language": "python"
    },
    "language_info": {
      "codemirror_mode": {
        "name": "python",
        "version": 3
      },
      "file_extension": ".py",
      "mimetype": "text/x-python",
      "name": "python",
      "nbconvert_exporter": "python",
      "pygments_lexer": "ipython3",
      "version": "3.8"
    }
  },
  "nbformat_minor": 4,
  "nbformat": 4,
  "cells": [
    {
      "cell_type": "markdown",
      "source": "# Object Oriented Programming Introduction",
      "metadata": {}
    },
    {
      "cell_type": "markdown",
      "source": "## procedural programming\n",
      "metadata": {}
    },
    {
      "cell_type": "code",
      "source": "print(\"Hello\")\nprint(\"Hello again\")\nprint(\"Bye bye\")",
      "metadata": {
        "trusted": true
      },
      "outputs": [
        {
          "name": "stdout",
          "text": "Hello\nHello again\nBye bye\n",
          "output_type": "stream"
        }
      ],
      "execution_count": 3
    },
    {
      "cell_type": "code",
      "source": "def say_something():\n    print(\"Hello\")\n    print(\"Hello again\")\n    print(\"Bye bye\")\n\nsay_something()",
      "metadata": {
        "trusted": true
      },
      "outputs": [
        {
          "name": "stdout",
          "text": "Hello\nHello again\nBye bye\n",
          "output_type": "stream"
        }
      ],
      "execution_count": 5
    },
    {
      "cell_type": "markdown",
      "source": "## Object oriented programming?",
      "metadata": {}
    },
    {
      "cell_type": "markdown",
      "source": "### What is an object?",
      "metadata": {}
    },
    {
      "cell_type": "markdown",
      "source": "### Messy room\n\n<img src=\"https://junkbrothers.be/wp-content/uploads/2024/05/IMG_6431-scaled-2-e1715528780737.jpeg\" width=\"500px\"/>",
      "metadata": {},
      "attachments": {}
    },
    {
      "cell_type": "code",
      "source": "How would clean up this room?",
      "metadata": {
        "trusted": true
      },
      "outputs": [],
      "execution_count": null
    },
    {
      "cell_type": "markdown",
      "source": "How would you recognize...",
      "metadata": {}
    },
    {
      "cell_type": "markdown",
      "source": "Are you able to describe this image using Python?",
      "metadata": {}
    },
    {
      "cell_type": "code",
      "source": "",
      "metadata": {
        "trusted": true
      },
      "outputs": [],
      "execution_count": null
    },
    {
      "cell_type": "code",
      "source": "",
      "metadata": {
        "trusted": true
      },
      "outputs": [],
      "execution_count": null
    },
    {
      "cell_type": "code",
      "source": "",
      "metadata": {
        "trusted": true
      },
      "outputs": [],
      "execution_count": null
    }
  ]
}